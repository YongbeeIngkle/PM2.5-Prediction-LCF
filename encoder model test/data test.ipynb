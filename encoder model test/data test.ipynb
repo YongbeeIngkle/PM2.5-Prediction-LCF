{
 "cells": [
  {
   "cell_type": "code",
   "execution_count": 1,
   "metadata": {},
   "outputs": [],
   "source": [
    "import numpy as np"
   ]
  },
  {
   "cell_type": "code",
   "execution_count": 2,
   "metadata": {},
   "outputs": [],
   "source": [
    "save_npz = np.load(f\"data/split-data/tl-cal-15/split-0/nearest_dataset.npz\")\n",
    "source_data, train_target_data, valid_data = save_npz[\"source_input\"], save_npz[\"train_target_input\"], save_npz[\"valid_input\"]"
   ]
  },
  {
   "cell_type": "code",
   "execution_count": 5,
   "metadata": {},
   "outputs": [],
   "source": [
    "for date in range(1,366):\n",
    "    date_pred_set = np.load(f\"D:/target-encode/tl-cal-15/date{date}.npz\")[\"dataset\"]\n",
    "    date_valid_data = valid_data[valid_data[:,0,6]==date]\n",
    "    validation_x = date_valid_data[:,2,6]\n",
    "    x_pred_data = date_pred_set[np.isin(date_pred_set[:,2,6], validation_x)]\n",
    "    if np.abs(x_pred_data - date_valid_data).sum() > 0:\n",
    "        print(date)\n",
    "        print(np.abs(x_pred_data[:,:,6] - date_valid_data[:,:,6]).sum())\n",
    "        print(np.abs(x_pred_data - date_valid_data).sum())\n",
    "        print('-'*100)"
   ]
  }
 ],
 "metadata": {
  "kernelspec": {
   "display_name": "PM25_env",
   "language": "python",
   "name": "python3"
  },
  "language_info": {
   "codemirror_mode": {
    "name": "ipython",
    "version": 3
   },
   "file_extension": ".py",
   "mimetype": "text/x-python",
   "name": "python",
   "nbconvert_exporter": "python",
   "pygments_lexer": "ipython3",
   "version": "3.9.15"
  },
  "orig_nbformat": 4
 },
 "nbformat": 4,
 "nbformat_minor": 2
}
